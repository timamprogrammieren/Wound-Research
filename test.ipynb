{
 "cells": [
  {
   "cell_type": "code",
   "execution_count": 1,
   "id": "73bb72cc",
   "metadata": {},
   "outputs": [
    {
     "name": "stdout",
     "output_type": "stream",
     "text": [
      "[TEST-ONLY] Evaluating 1 checkpoint(s) on split: test\n",
      "[load] Loaded weights from: runs/multirun6C_BNDPSV/trial_00/best.pt\n",
      "[TEST-ONLY] best                 | Loss: 0.5608 | Acc: 0.8438%\n",
      "--------------------------------\n",
      "[TEST-ONLY] BEST → best | Acc 0.84% | runs/multirun6C_BNDPSV/trial_00/best.pt\n",
      "[TEST-ONLY] CSV:  runs/multirun/test_only_test_results.csv\n",
      "[TEST-ONLY] Artifacts saved under each trial's 'output/' folder (or fallback under runs/multirun/test_only/<label>/output).\n"
     ]
    }
   ],
   "source": [
    "#multirun5 (T03) - 85.94\n",
    "!python light_parallel_azh_amp_p2.py \\\n",
    "  --data_root Data \\\n",
    "    --batch_size 16 \\\n",
    "        --test_only \\\n",
    "             --keep_classes \"BG,N,D,P,S,V\" \\\n",
    "          --weights runs/multirun6C_BNDPSV/trial_00/best.pt\n",
    "            "
   ]
  }
 ],
 "metadata": {
  "kernelspec": {
   "display_name": "woundcls",
   "language": "python",
   "name": "python3"
  },
  "language_info": {
   "codemirror_mode": {
    "name": "ipython",
    "version": 3
   },
   "file_extension": ".py",
   "mimetype": "text/x-python",
   "name": "python",
   "nbconvert_exporter": "python",
   "pygments_lexer": "ipython3",
   "version": "3.11.13"
  }
 },
 "nbformat": 4,
 "nbformat_minor": 5
}
